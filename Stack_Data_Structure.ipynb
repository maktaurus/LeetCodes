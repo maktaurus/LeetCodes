{
  "nbformat": 4,
  "nbformat_minor": 0,
  "metadata": {
    "colab": {
      "provenance": [],
      "authorship_tag": "ABX9TyNt0F1NGbkhdXL71ok4mF+O",
      "include_colab_link": true
    },
    "kernelspec": {
      "name": "python3",
      "display_name": "Python 3"
    },
    "language_info": {
      "name": "python"
    }
  },
  "cells": [
    {
      "cell_type": "markdown",
      "metadata": {
        "id": "view-in-github",
        "colab_type": "text"
      },
      "source": [
        "<a href=\"https://colab.research.google.com/github/maktaurus/LeetCodes/blob/main/Stack_Data_Structure.ipynb\" target=\"_parent\"><img src=\"https://colab.research.google.com/assets/colab-badge.svg\" alt=\"Open In Colab\"/></a>"
      ]
    },
    {
      "cell_type": "markdown",
      "source": [
        "# Stack:\n",
        "A stack is a linear data structure that follows the principle of Last In First Out (LIFO). This means the last element inserted inside the stack is removed first.\n"
      ],
      "metadata": {
        "id": "K5Wp0p_4NfQ4"
      }
    },
    {
      "cell_type": "markdown",
      "source": [
        "# Stack without size limit"
      ],
      "metadata": {
        "id": "jnuBJP1BDCi-"
      }
    },
    {
      "cell_type": "code",
      "source": [
        "# Stack without size limit\n",
        "class Stack:\n",
        "    def __init__(self):\n",
        "        self.list = []\n",
        "\n",
        "    def __str__(self):\n",
        "        values = self.list.reverse()\n",
        "        values = [str(x) for x in self.list]\n",
        "        return \"\\n\".join(values)\n",
        "\n",
        "    def isEmpty(self):\n",
        "        if self.list == []:\n",
        "            return True\n",
        "        return False\n",
        "\n",
        "    def push(self,value):\n",
        "        self.list.append(value)\n",
        "        return \"Value inserted successfully\"\n",
        "\n",
        "    def pop(self):\n",
        "        if self.list == []:\n",
        "            return \"Its Empty\"\n",
        "        else:\n",
        "            return self.list.pop()\n",
        "\n",
        "    def peek(self):\n",
        "        if self.list == []:\n",
        "            return \"Its Empty\"\n",
        "        return self.list[len(self.list)-1]\n",
        "\n",
        "    def delete(self):\n",
        "        self.list = []"
      ],
      "metadata": {
        "id": "WqSSV9QTNiB2"
      },
      "execution_count": null,
      "outputs": []
    },
    {
      "cell_type": "markdown",
      "source": [
        "# Stack with size limit"
      ],
      "metadata": {
        "id": "v-PgGcTTDHdN"
      }
    },
    {
      "cell_type": "code",
      "source": [
        "# Stack with size limit\n",
        "\n",
        "class Stack:\n",
        "    def __init__(self,maxsize):\n",
        "        self.maxsixe = maxsize\n",
        "        self.list = []\n",
        "\n",
        "    def __str__(self):\n",
        "        values = self.list.reverse()\n",
        "        values = [str(x) for x in self.list]\n",
        "        return \"\\n\".join(values)\n",
        "\n",
        "    def isEmpty(self):\n",
        "        if self.list == []:\n",
        "            return True\n",
        "        return False\n",
        "\n",
        "    def isFull(self):\n",
        "        if len(self.list) == self.maxsixe:\n",
        "            return True\n",
        "        return False\n",
        "\n",
        "    def push(self,value):\n",
        "        if self.isFull():\n",
        "            return \"Its Full\"\n",
        "        return self.list.append(value)\n",
        "\n",
        "    def pop(self):\n",
        "        if self.isEmpty():\n",
        "            return \"Its Empty\"\n",
        "        return self.list.pop()\n",
        "\n",
        "    def peek(self):\n",
        "        if self.isEmpty():\n",
        "            return \"Its Empty\"\n",
        "        return self.list[len(self.list)-1]\n",
        "\n",
        "    def delete(self):\n",
        "        self.list = []\n",
        "\n",
        "stt = Stack(4)\n",
        "print(stt.isEmpty())\n",
        "print(stt.isFull())\n",
        "stt.push(10)\n",
        "stt.push(20)\n",
        "stt.push(30)\n",
        "stt.push(40)\n",
        "print(stt.delete())\n",
        "stt.push(10)\n",
        "print(stt)"
      ],
      "metadata": {
        "id": "ZaY-ot2SDJtg"
      },
      "execution_count": null,
      "outputs": []
    },
    {
      "cell_type": "markdown",
      "source": [
        "# Stack using linked list"
      ],
      "metadata": {
        "id": "4HLPd9IlDMAb"
      }
    },
    {
      "cell_type": "code",
      "source": [
        "# Stack using linked list\n",
        "class Node:\n",
        "    def __init__(self,val=0,next=next):\n",
        "        self.val = val\n",
        "        self.next = next\n",
        "\n",
        "class LinkedList:\n",
        "    def __init__(self):\n",
        "        self.head = None\n",
        "\n",
        "    def __iter__(self):\n",
        "        curr = self.head\n",
        "        while curr:\n",
        "            yield curr\n",
        "            curr = curr.next\n",
        "\n",
        "class Stack:\n",
        "    def __init__(self):\n",
        "        self.linked_list = LinkedList()\n",
        "\n",
        "    def __str__(self):\n",
        "        values = [str(x.val) for x in self.linked_list]\n",
        "        return \"\\n\".join(values)\n",
        "\n",
        "    def isEmpty(self):\n",
        "        if self.linked_list.head == None:\n",
        "            return True\n",
        "        return False\n",
        "\n",
        "    def push(self,value):\n",
        "        new_node = Node(value)\n",
        "        new_node.next = self.linked_list.head\n",
        "        self.linked_list.head = new_node\n",
        "\n",
        "    def pop(self):\n",
        "        if self.isEmpty():\n",
        "            return \"Its a Empty Stack\"\n",
        "        else:\n",
        "            popped_node = self.linked_list.head\n",
        "            self.linked_list.head = self.linked_list.head.next\n",
        "            return popped_node.val\n",
        "\n",
        "    def peek(self):\n",
        "        if self.isEmpty():\n",
        "            return \"Its a Empty Stack\"\n",
        "        return self.linked_list.head.val\n",
        "\n",
        "    def delete(self):\n",
        "        self.linked_list.head = None\n",
        "\n",
        "\n",
        "ss = Stack()\n",
        "ss.isEmpty()\n",
        "ss.push(10)\n",
        "ss.push(20)\n",
        "ss.push(30)\n",
        "ss.push(40)\n",
        "print(\"------------\")\n",
        "print(ss.peek())\n",
        "print(\"---------------\")\n",
        "print(ss)\n"
      ],
      "metadata": {
        "id": "_vfEwXx7DOAL"
      },
      "execution_count": null,
      "outputs": []
    }
  ]
}