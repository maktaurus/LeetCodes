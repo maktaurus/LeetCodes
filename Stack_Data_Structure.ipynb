{
  "nbformat": 4,
  "nbformat_minor": 0,
  "metadata": {
    "colab": {
      "provenance": [],
      "authorship_tag": "ABX9TyOk+HaLFH2RrBQ+faOT4Fk4",
      "include_colab_link": true
    },
    "kernelspec": {
      "name": "python3",
      "display_name": "Python 3"
    },
    "language_info": {
      "name": "python"
    }
  },
  "cells": [
    {
      "cell_type": "markdown",
      "metadata": {
        "id": "view-in-github",
        "colab_type": "text"
      },
      "source": [
        "<a href=\"https://colab.research.google.com/github/maktaurus/LeetCodes/blob/main/Stack_Data_Structure.ipynb\" target=\"_parent\"><img src=\"https://colab.research.google.com/assets/colab-badge.svg\" alt=\"Open In Colab\"/></a>"
      ]
    },
    {
      "cell_type": "markdown",
      "source": [
        "# Queue:\n",
        "The queue is a linear data structure that stores data sequentially based on the First In First Out (FIFO) manner.\n"
      ],
      "metadata": {
        "id": "K5Wp0p_4NfQ4"
      }
    },
    {
      "cell_type": "markdown",
      "source": [
        "# Queue with python list"
      ],
      "metadata": {
        "id": "jnuBJP1BDCi-"
      }
    },
    {
      "cell_type": "code",
      "source": [
        "# Queue with python list\n",
        "\n",
        "class Queue:\n",
        "    def __init__(self):\n",
        "        self.list = []\n",
        "\n",
        "    def __str__(self):\n",
        "        values = [str(x) for x in self.list]\n",
        "        return \" \".join(values)\n",
        "\n",
        "    def isEmpty(self):\n",
        "        if self.list == []:\n",
        "            return True\n",
        "        return False\n",
        "\n",
        "    def enqueue(self,value):\n",
        "        return self.list.append(value)\n",
        "\n",
        "    def dequeue(self):\n",
        "        if self.list == []:\n",
        "            return \"Its a empty list.\"\n",
        "        return self.list.pop(0)\n",
        "\n",
        "    def peek(self):\n",
        "        if self.list == []:\n",
        "            return \"Its a empty list.\"\n",
        "        return self.list[0]\n",
        "\n",
        "    def delete(self):\n",
        "        self.list = []\n",
        "\n",
        "qq = Queue()\n",
        "print(qq.isEmpty())\n",
        "qq.enqueue(10)\n",
        "qq.enqueue(20)\n",
        "qq.enqueue(30)\n",
        "qq.enqueue(40)\n",
        "print(qq)\n",
        "print(qq.dequeue())\n",
        "print(qq.peek())"
      ],
      "metadata": {
        "id": "WqSSV9QTNiB2"
      },
      "execution_count": null,
      "outputs": []
    },
    {
      "cell_type": "markdown",
      "source": [
        "# Lined List Queue"
      ],
      "metadata": {
        "id": "v-PgGcTTDHdN"
      }
    },
    {
      "cell_type": "code",
      "source": [
        "# Lined List Queue\n",
        "\n",
        "class Node:\n",
        "    def __init__(self,val,next=None):\n",
        "        self.val = val\n",
        "        self.next = next\n",
        "\n",
        "class LinkedList:\n",
        "    def __init__(self):\n",
        "        self.head = None\n",
        "        self.tail = None\n",
        "\n",
        "    def __iter__(self):\n",
        "        curr = self.head\n",
        "        while curr:\n",
        "            yield curr\n",
        "            curr = curr.next\n",
        "\n",
        "class Queue:\n",
        "    def __init__(self):\n",
        "        self.linkedlist = LinkedList()\n",
        "\n",
        "    def __str__(self):\n",
        "        values = [str(x.val) for x in self.linkedlist]\n",
        "        return \" \".join(values)\n",
        "\n",
        "    def enQueue(self,value):\n",
        "        new_node = Node(value)\n",
        "        if self.linkedlist.head == None:\n",
        "            self.linkedlist.head = new_node\n",
        "            self.linkedlist.tail = new_node\n",
        "        else:\n",
        "            self.linkedlist.tail.next = new_node\n",
        "            self.linkedlist.tail = new_node\n",
        "\n",
        "    def dequeue(self):\n",
        "        if self.linkedlist.head == None:\n",
        "            return \"Its a empty Queue\"\n",
        "        else:\n",
        "            popped_node = self.linkedlist.head\n",
        "            if self.linkedlist.head == self.linkedlist.tail:\n",
        "                self.linkedlist.head = None\n",
        "                self.linkedlist.tail = None\n",
        "            else:\n",
        "                self.linkedlist.head = self.linkedlist.head.next\n",
        "            return popped_node.val\n",
        "\n",
        "    def isEmpty(self):\n",
        "        if self.linkedlist.head == None:\n",
        "            return True\n",
        "        return False\n",
        "\n",
        "    def peek(self):\n",
        "        if self.isEmpty():\n",
        "            return \"Its a empty Queue\"\n",
        "        else:\n",
        "            return self.linkedlist.head\n",
        "\n",
        "    def delete(self):\n",
        "        self.linkedlist.head = None\n",
        "        self.linkedlist.tail = None\n",
        "\n",
        "\n",
        "lqq = Queue()\n",
        "lqq.enQueue(10)\n",
        "lqq.enQueue(20)\n",
        "lqq.enQueue(30)\n",
        "print(lqq)\n",
        "print(lqq.dequeue())\n",
        "print(lqq.peek().val)\n",
        "print(lqq)\n"
      ],
      "metadata": {
        "id": "ZaY-ot2SDJtg"
      },
      "execution_count": null,
      "outputs": []
    },
    {
      "cell_type": "markdown",
      "source": [
        "# Python built-in Queue module from collections and Queue Module"
      ],
      "metadata": {
        "id": "4HLPd9IlDMAb"
      }
    },
    {
      "cell_type": "code",
      "source": [
        "# Python built-in Queue module from collections\n",
        "from collections import deque\n",
        "\n",
        "cusqueue = deque(maxlen=3)\n",
        "cusqueue.append(10)\n",
        "cusqueue.append(20)\n",
        "cusqueue.append(30)\n",
        "cusqueue.append(40)\n",
        "cusqueue.pop()\n",
        "cusqueue.popleft()\n",
        "cusqueue.clear()\n",
        "cusqueue"
      ],
      "metadata": {
        "id": "_vfEwXx7DOAL"
      },
      "execution_count": null,
      "outputs": []
    },
    {
      "cell_type": "code",
      "source": [
        "import queue\n",
        "\n",
        "qq = queue.Queue(maxsize=5)\n",
        "qq.qsize()\n",
        "qq.put(10)\n",
        "qq.put(20)\n",
        "qq.put(30)\n",
        "qq.put(40)\n",
        "qq.put(50)\n",
        "qq.get()\n",
        "print(qq.qsize())"
      ],
      "metadata": {
        "id": "ahQa9-dcHCqZ"
      },
      "execution_count": null,
      "outputs": []
    }
  ]
}