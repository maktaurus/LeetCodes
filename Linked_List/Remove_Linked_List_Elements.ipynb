{
  "nbformat": 4,
  "nbformat_minor": 0,
  "metadata": {
    "colab": {
      "provenance": [],
      "authorship_tag": "ABX9TyMwOLwXGXl5MnRaPSlVIzGd",
      "include_colab_link": true
    },
    "kernelspec": {
      "name": "python3",
      "display_name": "Python 3"
    },
    "language_info": {
      "name": "python"
    }
  },
  "cells": [
    {
      "cell_type": "markdown",
      "metadata": {
        "id": "view-in-github",
        "colab_type": "text"
      },
      "source": [
        "<a href=\"https://colab.research.google.com/github/maktaurus/LeetCodes/blob/main/Remove_Linked_List_Elements.ipynb\" target=\"_parent\"><img src=\"https://colab.research.google.com/assets/colab-badge.svg\" alt=\"Open In Colab\"/></a>"
      ]
    },
    {
      "cell_type": "markdown",
      "source": [
        "203. Remove Linked List Elements\n",
        "Given the head of a linked list and an integer val, remove all the nodes of the linked list that has Node.val == val, and return the new head.\n",
        "\n",
        "Example 1:\n",
        "\n",
        "\n",
        "Input: head = [1,2,6,3,4,5,6], val = 6\n",
        "Output: [1,2,3,4,5]\n",
        "Example 2:\n",
        "\n",
        "Input: head = [], val = 1\n",
        "Output: []\n",
        "Example 3:\n",
        "\n",
        "Input: head = [7,7,7,7], val = 7\n",
        "Output: []"
      ],
      "metadata": {
        "id": "K5Wp0p_4NfQ4"
      }
    },
    {
      "cell_type": "code",
      "source": [
        "# Definition for singly-linked list.\n",
        "# class ListNode:\n",
        "#     def __init__(self, val=0, next=None):\n",
        "#         self.val = val\n",
        "#         self.next = next\n",
        "class Solution:\n",
        "    def removeElements(self, head: Optional[ListNode], val: int) -> Optional[ListNode]:\n",
        "        dummy = ListNode()\n",
        "        dummy.next = head\n",
        "        prev_node = dummy\n",
        "        cur_node = head\n",
        "\n",
        "        while cur_node:\n",
        "            if cur_node.val == val:\n",
        "                prev_node.next = cur_node.next\n",
        "            else:\n",
        "                prev_node = cur_node\n",
        "            cur_node = cur_node.next\n",
        "        return dummy.next"
      ],
      "metadata": {
        "id": "WqSSV9QTNiB2"
      },
      "execution_count": null,
      "outputs": []
    }
  ]
}
