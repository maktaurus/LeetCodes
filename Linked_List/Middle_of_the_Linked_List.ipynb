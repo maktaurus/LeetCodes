{
  "nbformat": 4,
  "nbformat_minor": 0,
  "metadata": {
    "colab": {
      "provenance": [],
      "authorship_tag": "ABX9TyO+s1tiGSLW1ePAxVH7P446",
      "include_colab_link": true
    },
    "kernelspec": {
      "name": "python3",
      "display_name": "Python 3"
    },
    "language_info": {
      "name": "python"
    }
  },
  "cells": [
    {
      "cell_type": "markdown",
      "metadata": {
        "id": "view-in-github",
        "colab_type": "text"
      },
      "source": [
        "<a href=\"https://colab.research.google.com/github/maktaurus/LeetCodes/blob/main/Middle_of_the_Linked_List.ipynb\" target=\"_parent\"><img src=\"https://colab.research.google.com/assets/colab-badge.svg\" alt=\"Open In Colab\"/></a>"
      ]
    },
    {
      "cell_type": "markdown",
      "source": [
        "876. Middle of the Linked List\n",
        "\n",
        "Given the head of a singly linked list, return the middle node of the linked list.\n",
        "\n",
        "If there are two middle nodes, return the second middle node.\n",
        "\n",
        "Example 1:\n",
        "\n",
        "Input: head = [1,2,3,4,5]\n",
        "Output: [3,4,5]\n",
        "Explanation: The middle node of the list is node 3.\n",
        "\n",
        "\n",
        "Example 2:\n",
        "\n",
        "Input: head = [1,2,3,4,5,6]\n",
        "Output: [4,5,6]\n",
        "Explanation: Since the list has two middle nodes with values 3 and 4, we return the second one."
      ],
      "metadata": {
        "id": "K5Wp0p_4NfQ4"
      }
    },
    {
      "cell_type": "code",
      "source": [
        "# Definition for singly-linked list.\n",
        "# class ListNode:\n",
        "#     def __init__(self, val=0, next=None):\n",
        "#         self.val = val\n",
        "#         self.next = next\n",
        "class Solution:\n",
        "    def middleNode(self, head: Optional[ListNode]) -> Optional[ListNode]:\n",
        "        slow = head\n",
        "        fast = head\n",
        "\n",
        "        while fast and fast.next:\n",
        "            slow = slow.next\n",
        "            fast = fast.next.next\n",
        "        return slow\n"
      ],
      "metadata": {
        "id": "WqSSV9QTNiB2"
      },
      "execution_count": null,
      "outputs": []
    }
  ]
}
