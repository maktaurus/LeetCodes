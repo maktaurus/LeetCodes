{
  "nbformat": 4,
  "nbformat_minor": 0,
  "metadata": {
    "colab": {
      "provenance": [],
      "authorship_tag": "ABX9TyMk0SeuFrnf3i2zjKVMkhRT",
      "include_colab_link": true
    },
    "kernelspec": {
      "name": "python3",
      "display_name": "Python 3"
    },
    "language_info": {
      "name": "python"
    }
  },
  "cells": [
    {
      "cell_type": "markdown",
      "metadata": {
        "id": "view-in-github",
        "colab_type": "text"
      },
      "source": [
        "<a href=\"https://colab.research.google.com/github/maktaurus/LeetCodes/blob/main/Palindrome_Linked_List.ipynb\" target=\"_parent\"><img src=\"https://colab.research.google.com/assets/colab-badge.svg\" alt=\"Open In Colab\"/></a>"
      ]
    },
    {
      "cell_type": "markdown",
      "source": [
        "234. Palindrome Linked List\n",
        "\n",
        "Given the head of a singly linked list, return true if it is a\n",
        "palindrome\n",
        " or false otherwise.\n",
        "\n",
        "Example 1:\n",
        "Input: head = [1,2,2,1]\n",
        "Output: true\n",
        "\n",
        "Example 2:\n",
        "Input: head = [1,2]\n",
        "Output: false"
      ],
      "metadata": {
        "id": "K5Wp0p_4NfQ4"
      }
    },
    {
      "cell_type": "code",
      "source": [
        "# Definition for singly-linked list.\n",
        "# class ListNode:\n",
        "#     def __init__(self, val=0, next=None):\n",
        "#         self.val = val\n",
        "#         self.next = next\n",
        "class Solution:\n",
        "    def isPalindrome(self, head: Optional[ListNode]) -> bool:\n",
        "        temp = head\n",
        "        ll = []\n",
        "\n",
        "        while temp:\n",
        "            ll.append(temp.val)\n",
        "            temp = temp.next\n",
        "        if ll == ll[::-1]:\n",
        "            return True\n",
        "        return False"
      ],
      "metadata": {
        "id": "WqSSV9QTNiB2"
      },
      "execution_count": null,
      "outputs": []
    }
  ]
}