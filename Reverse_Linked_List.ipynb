{
  "nbformat": 4,
  "nbformat_minor": 0,
  "metadata": {
    "colab": {
      "provenance": [],
      "authorship_tag": "ABX9TyNroksfhO3Mk5jXU+OqoPQ+",
      "include_colab_link": true
    },
    "kernelspec": {
      "name": "python3",
      "display_name": "Python 3"
    },
    "language_info": {
      "name": "python"
    }
  },
  "cells": [
    {
      "cell_type": "markdown",
      "metadata": {
        "id": "view-in-github",
        "colab_type": "text"
      },
      "source": [
        "<a href=\"https://colab.research.google.com/github/maktaurus/LeetCodes/blob/main/Reverse_Linked_List.ipynb\" target=\"_parent\"><img src=\"https://colab.research.google.com/assets/colab-badge.svg\" alt=\"Open In Colab\"/></a>"
      ]
    },
    {
      "cell_type": "markdown",
      "source": [
        "206. Reverse Linked List\n",
        "Given the head of a singly linked list, reverse the list, and return the reversed list.\n",
        "\n",
        "Example 1:\n",
        "\n",
        "\n",
        "Input: head = [1,2,3,4,5]\n",
        "Output: [5,4,3,2,1]\n",
        "Example 2:\n",
        "\n",
        "\n",
        "Input: head = [1,2]\n",
        "Output: [2,1]\n",
        "Example 3:\n",
        "\n",
        "Input: head = []\n",
        "Output: []"
      ],
      "metadata": {
        "id": "K5Wp0p_4NfQ4"
      }
    },
    {
      "cell_type": "code",
      "source": [
        "# Definition for singly-linked list.\n",
        "# class ListNode:\n",
        "#     def __init__(self, val=0, next=None):\n",
        "#         self.val = val\n",
        "#         self.next = next\n",
        "class Solution:\n",
        "    def reverseList(self, head: Optional[ListNode]) -> Optional[ListNode]:\n",
        "        prev_node = None\n",
        "        cur_node = head\n",
        "\n",
        "        while cur_node:\n",
        "            next_node = cur_node.next\n",
        "            cur_node.next = prev_node\n",
        "            prev_node = cur_node\n",
        "            cur_node = next_node\n",
        "        return prev_node"
      ],
      "metadata": {
        "id": "WqSSV9QTNiB2"
      },
      "execution_count": null,
      "outputs": []
    }
  ]
}